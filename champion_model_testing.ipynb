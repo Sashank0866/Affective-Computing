{
 "cells": [
  {
   "cell_type": "code",
   "execution_count": 4,
   "metadata": {},
   "outputs": [
    {
     "data": {
      "text/plain": [
       "BaggingClassifier(base_estimator=Pipeline(steps=[('scaler', StandardScaler()),\n",
       "                                                 ('pca',\n",
       "                                                  PCA(n_components=0.95)),\n",
       "                                                 ('model',\n",
       "                                                  SGDClassifier(alpha=0.01,\n",
       "                                                                eta0=0.001,\n",
       "                                                                learning_rate='constant',\n",
       "                                                                random_state=27))]),\n",
       "                  max_samples=0.8, n_estimators=100, n_jobs=-1, oob_score=True,\n",
       "                  random_state=27, verbose=1)"
      ]
     },
     "execution_count": 4,
     "metadata": {},
     "output_type": "execute_result"
    }
   ],
   "source": [
    "import pickle\n",
    "from sklearn.ensemble import BaggingClassifier\n",
    "\n",
    "pickled_champion_model_filename = 'pickled_champion_model.sav'\n",
    "loaded_pickled_champion_model = pickle.load(open(pickled_champion_model_filename, 'rb'))\n",
    "loaded_pickled_champion_model\n"
   ]
  },
  {
   "cell_type": "code",
   "execution_count": 5,
   "metadata": {},
   "outputs": [
    {
     "data": {
      "text/plain": [
       "BaggingClassifier(base_estimator=Pipeline(steps=[('scaler', StandardScaler()),\n",
       "                                                 ('pca',\n",
       "                                                  PCA(n_components=0.95)),\n",
       "                                                 ('model',\n",
       "                                                  SGDClassifier(alpha=0.01,\n",
       "                                                                eta0=0.001,\n",
       "                                                                learning_rate='constant',\n",
       "                                                                random_state=27))]),\n",
       "                  max_samples=0.8, n_estimators=100, n_jobs=-1, oob_score=True,\n",
       "                  random_state=27, verbose=1)"
      ]
     },
     "execution_count": 5,
     "metadata": {},
     "output_type": "execute_result"
    }
   ],
   "source": [
    "import joblib\n",
    "\n",
    "joblibed_champion_model_filename = 'joblibed_champion_model.sav'\n",
    "loaded_joblibed_champion_model = joblib.load(joblibed_champion_model_filename)\n",
    "loaded_joblibed_champion_model"
   ]
  }
 ],
 "metadata": {
  "kernelspec": {
   "display_name": "base",
   "language": "python",
   "name": "python3"
  },
  "language_info": {
   "codemirror_mode": {
    "name": "ipython",
    "version": 3
   },
   "file_extension": ".py",
   "mimetype": "text/x-python",
   "name": "python",
   "nbconvert_exporter": "python",
   "pygments_lexer": "ipython3",
   "version": "3.9.13"
  },
  "orig_nbformat": 4
 },
 "nbformat": 4,
 "nbformat_minor": 2
}
